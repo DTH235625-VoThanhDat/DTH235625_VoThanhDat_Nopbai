{
 "cells": [
  {
   "cell_type": "code",
   "execution_count": null,
   "id": "9c1af20b",
   "metadata": {
    "vscode": {
     "languageId": "plaintext"
    }
   },
   "outputs": [],
   "source": [
    "{\n",
    " \"cells\": [\n",
    "  {\n",
    "   \"cell_type\": \"code\",\n",
    "   \"execution_count\": null,\n",
    "   \"id\": \"4cc6d865\",\n",
    "   \"metadata\": {},\n",
    "   \"outputs\": [],\n",
    "   \"source\": [\n",
    "    \"a, b, c = map(float, input(\\\"Nhập 3 số dương a, b, c cách nhau bởi dấu phẩy: \\\").split(','))\\n\",\n",
    "    \"\\n\",\n",
    "    \"if a > 0 and b > 0 and c > 0 and (a + b > c) and (a + c > b) and (b + c > a):\\n\",\n",
    "    \"    print('Có thể tạo thành một tam giác')\\n\",\n",
    "    \"else:\\n\",\n",
    "    \"    print('Không thể tạo thành một tam giác')\"\n",
    "   ]\n",
    "  },\n",
    "  {\n",
    "   \"cell_type\": \"code\",\n",
    "   \"execution_count\": null,\n",
    "   \"id\": \"f66343d8\",\n",
    "   \"metadata\": {},\n",
    "   \"outputs\": [],\n",
    "   \"source\": [\n",
    "    \"def ktra_Tam_giac (a, b, c):\\n\",\n",
    "    \"    return a + b > c and a + c > b and b + c > a\\n\",\n",
    "    \"\\n\",\n",
    "    \"try:\\n\",\n",
    "    \"    a, b, c = map(float, input(\\\"Nhập 3 số dương a, b, c cách nhau bởi dấu phẩy:\\\").slit(','))\\n\",\n",
    "    \"    \\n\",\n",
    "    \"    if a <= 0 or b <= 0 or c <= 0:\\n\",\n",
    "    \"        print(\\\"Vui lòng nhập số dương\\\")\\n\",\n",
    "    \"    elif ktra_Tam_giac(a, b, c):\\n\",\n",
    "    \"        print(\\\"Có thể tạo thành một tam giác\\\")\\n\",\n",
    "    \"    else:\\n\",\n",
    "    \"        print(\\\"Không thể tạo thành một tam giác\\\")\\n\",\n",
    "    \"except ValueError:\\n\",\n",
    "    \"    print(\\\"Vui lòng nhập số hợp lệ\\\")\"\n",
    "   ]\n",
    "  },\n",
    "  {\n",
    "   \"cell_type\": \"code\",\n",
    "   \"execution_count\": null,\n",
    "   \"id\": \"2d4924d6\",\n",
    "   \"metadata\": {},\n",
    "   \"outputs\": [],\n",
    "   \"source\": [\n",
    "    \"try:\\n\",\n",
    "    \"    a, b, c = map(float, input(\\\"Nhập 3 số dương a, b, c (cách nhau bởi dấu phẩy): \\\").split(\\\",\\\"))\\n\",\n",
    "    \"    print(\\\"Có thể tạo thành một tam giác\\\" if all(x > 0 for x in (a, b, c)) and a+b>c and a+c>b and b+c>a else \\\"Không thể tạo thành một tam giác\\\")\\n\",\n",
    "    \"except:\\n\",\n",
    "    \"    print(\\\"Dữ liệu nhập vào không hợp lệ!\\\")\\n\"\n",
    "   ]\n",
    "  }\n",
    " ],\n",
    " \"metadata\": {\n",
    "  \"language_info\": {\n",
    "   \"name\": \"python\"\n",
    "  }\n",
    " },\n",
    " \"nbformat\": 4,\n",
    " \"nbformat_minor\": 5\n",
    "}"
   ]
  }
 ],
 "metadata": {
  "language_info": {
   "name": "python"
  }
 },
 "nbformat": 4,
 "nbformat_minor": 5
}
